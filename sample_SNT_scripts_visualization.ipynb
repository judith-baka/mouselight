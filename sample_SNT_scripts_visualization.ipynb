{
 "cells": [
  {
   "cell_type": "markdown",
   "id": "directed-portugal",
   "metadata": {},
   "source": [
    "# getting started\n",
    "install SNT on your FIJI instance, then install pyimagej. <br> See details here: https://github.com/morphonets/SNT/tree/master/notebooks"
   ]
  },
  {
   "cell_type": "markdown",
   "id": "dense-pharmacology",
   "metadata": {},
   "source": [
    "import pyimagej <br>\n",
    "define fiji_path, where your fiji instance can be found (with installed SNT) <br>\n",
    "define jsonfolder, where the reconstructions are in .json format (use the ccf2 version since SNT is not compatible with ccf3 as of yet)"
   ]
  },
  {
   "cell_type": "code",
   "execution_count": 1,
   "id": "vietnamese-roads",
   "metadata": {},
   "outputs": [],
   "source": [
    "import os\n",
    "import matplotlib.pyplot as plt\n",
    "import numpy as np\n",
    "import imagej\n",
    "fiji_path = r\"C:\\Users\\bakaj\\Downloads\\instal\\fiji-new\\Fiji.app\" # EDIT THIS LINE \n",
    "jsonfolder = r\"C:\\Users\\bakaj\\Desktop\\MouseLight\\all_cells_json\\unsorted\" # EDIT THIS LINE\n",
    "\n",
    "try:\n",
    "    if os.path.isdir(fiji_path):\n",
    "        ij = imagej.init(fiji_path, headless=False)\n",
    "    else:\n",
    "        print(\"Cannot proceed: Fiji not found!\")\n",
    "except:\n",
    "    print('imagej already imported..?')\n",
    "\n",
    "from scyjava import jimport\n",
    "\n",
    "AllenUtils = jimport('sc.fiji.snt.annotation.AllenUtils')\n",
    "AllenCompartment = jimport('sc.fiji.snt.annotation.AllenCompartment')\n",
    "sntrgbcolor = jimport('org.scijava.util.ColorRGB')"
   ]
  },
  {
   "cell_type": "markdown",
   "id": "growing-syntax",
   "metadata": {},
   "source": [
    "The following three functions do all the work, initializes a new viewer, then adds cells and brain regions one by one to the viewer"
   ]
  },
  {
   "cell_type": "code",
   "execution_count": 2,
   "id": "brutal-species",
   "metadata": {},
   "outputs": [],
   "source": [
    "def init_viewer():\n",
    "    #initializes an SNT viewer in dark mode, adds a mouse brain\n",
    "    Viewer3D = jimport('sc.fiji.snt.viewer.Viewer3D')\n",
    "    viewer_3d = Viewer3D(True)#\n",
    "    viewer_3d.setEnableDarkMode(True)\n",
    "    viewer_3d.loadRefBrain('mouse')\n",
    "    #viewer_3d.setViewMode('sagittal')\n",
    "    viewer_3d.setAnimationEnabled(True)\n",
    "    viewer_3d.setDefaultThickness(1.5)\n",
    "    viewer_3d.show()\n",
    "    return viewer_3d\n",
    "\n",
    "\n",
    "def add_cell_to_viewer(viewer_3d,\n",
    "                       cell_name = 'AA0922',\n",
    "                       cells_added = {},\n",
    "                       axon_color= 'red',\n",
    "                       dendrite_color = 'blue',\n",
    "                       show_axon = True,\n",
    "                       show_dendrite = True,\n",
    "                       all_cells_on_left = True):\n",
    "    # this function adds a single cell to a previously spawned viewer\n",
    "    #the cells_added variable is just a means to keep track of added cells, if a cell is already in the list,\n",
    "    #it will be deleted instead\n",
    "    # You can specify dendrite and axon color, and can assign cells to the left hemisphere\n",
    "\n",
    "    if cell_name in cells_added.keys():\n",
    "        try:\n",
    "            viewer_3d.remove(cells_added[cell_name][0])\n",
    "        except:\n",
    "            pass\n",
    "        try:\n",
    "            viewer_3d.remove(cells_added[cell_name][1])\n",
    "        except:\n",
    "            pass\n",
    "        del cells_added[cell_name]\n",
    "    else:\n",
    "        Tree = jimport('sc.fiji.snt.Tree') \n",
    "        \n",
    "        jsonfile_with_path = os.path.join(jsonfolder,cell_name+'.json')\n",
    "        if show_axon:\n",
    "            axon = Tree(jsonfile_with_path, \"axon\")\n",
    "            axon.setColor(axon_color)\n",
    "            axon.setLabel(axon.getLabel()+' axon')\n",
    "            axon.setRadii(8)\n",
    "        else:\n",
    "            axon=None\n",
    "        dendrite = Tree(jsonfile_with_path, \"dendrite\")\n",
    "        dendrite.setLabel(dendrite.getLabel()+' dendrite')\n",
    "        dendrite.setColor(dendrite_color)\n",
    "        \n",
    "        if not AllenUtils.isLeftHemisphere(dendrite) and all_cells_on_left:\n",
    "                AllenUtils.assignToLeftHemisphere(axon)\n",
    "                AllenUtils.assignToLeftHemisphere(dendrite)\n",
    "        if show_axon:\n",
    "            viewer_3d.add(axon)\n",
    "        if show_dendrite:\n",
    "            viewer_3d.add(dendrite)\n",
    "        cells_added[cell_name] = [axon,dendrite]\n",
    "    return cells_added#{cell_name:[axon,dendrite]}\n",
    "\n",
    "def add_brain_region_to_viewer(structureId,color,transparency,viewer_3d):\n",
    "    #this function adds brain regions based on their structure ID\n",
    "    #color is set with a list of RGB values e.g [255,255,255]\n",
    "    #transparency is 0 (transparent) to 1 (solid)\n",
    "    #viewer has to be initialized\n",
    "    allenmesh = AllenCompartment(structureId).getMesh()\n",
    "    allenmesh.setColor(sntrgbcolor(color[0],color[1],color[2]),transparency) # color, transparency\n",
    "    viewer_3d.addMesh(allenmesh)"
   ]
  },
  {
   "cell_type": "markdown",
   "id": "finnish-stamp",
   "metadata": {},
   "source": [
    "initialize a new viewer,a  new window should appear with a mouse brain"
   ]
  },
  {
   "cell_type": "code",
   "execution_count": 3,
   "id": "final-india",
   "metadata": {},
   "outputs": [],
   "source": [
    "viewer_3d = init_viewer()\n",
    "cells_added = {}"
   ]
  },
  {
   "attachments": {},
   "cell_type": "markdown",
   "id": "choice-throw",
   "metadata": {},
   "source": [
    "![blank viewer](img\\visualize_1.jpg)"
   ]
  },
  {
   "attachments": {},
   "cell_type": "markdown",
   "id": "hollywood-horizontal",
   "metadata": {},
   "source": [
    "Add a cell:"
   ]
  },
  {
   "cell_type": "code",
   "execution_count": 4,
   "id": "delayed-worth",
   "metadata": {},
   "outputs": [],
   "source": [
    "cells_added = add_cell_to_viewer(viewer_3d,\n",
    "                                 cell_name = 'AA0922',\n",
    "                                 cells_added = cells_added,\n",
    "                                 axon_color= 'red',\n",
    "                                 dendrite_color = 'blue',\n",
    "                                 show_axon = True,\n",
    "                                 show_dendrite = True,\n",
    "                                 all_cells_on_left = False)"
   ]
  },
  {
   "attachments": {},
   "cell_type": "markdown",
   "id": "loaded-satisfaction",
   "metadata": {},
   "source": [
    "![one cell](img\\visualize_2.jpg)"
   ]
  },
  {
   "cell_type": "markdown",
   "id": "favorite-function",
   "metadata": {},
   "source": [
    "Add another cell to the same viewer with different colors"
   ]
  },
  {
   "cell_type": "code",
   "execution_count": 5,
   "id": "found-empty",
   "metadata": {},
   "outputs": [],
   "source": [
    "cells_added = add_cell_to_viewer(viewer_3d,\n",
    "                                 cell_name = 'AA0920',\n",
    "                                 cells_added = cells_added,\n",
    "                                 axon_color= 'green',\n",
    "                                 dendrite_color = 'yellow',\n",
    "                                 show_axon = True,\n",
    "                                 show_dendrite = True,\n",
    "                                 all_cells_on_left = False)"
   ]
  },
  {
   "attachments": {},
   "cell_type": "markdown",
   "id": "narrow-little",
   "metadata": {},
   "source": [
    "![two cells](img\\visualize_3.jpg)"
   ]
  },
  {
   "cell_type": "markdown",
   "id": "activated-baseball",
   "metadata": {},
   "source": [
    "Let's remove the first cell"
   ]
  },
  {
   "cell_type": "code",
   "execution_count": 6,
   "id": "instructional-dakota",
   "metadata": {},
   "outputs": [],
   "source": [
    "cells_added = add_cell_to_viewer(viewer_3d,\n",
    "                                 cell_name = 'AA0922',\n",
    "                                 cells_added = cells_added)"
   ]
  },
  {
   "attachments": {},
   "cell_type": "markdown",
   "id": "collaborative-evidence",
   "metadata": {},
   "source": [
    "![cell removed](img\\visualize_4.jpg)"
   ]
  },
  {
   "cell_type": "markdown",
   "id": "ranking-reporter",
   "metadata": {},
   "source": [
    "now let's figure out the soma location of the second cell"
   ]
  },
  {
   "cell_type": "code",
   "execution_count": 7,
   "id": "disciplinary-assistant",
   "metadata": {},
   "outputs": [],
   "source": [
    "Tree = jimport('sc.fiji.snt.Tree')\n",
    "jsonfile_with_path = os.path.join(jsonfolder,'AA0920.json')\n",
    "axon = Tree(jsonfile_with_path, \"axon\")\n",
    "structureId = axon.getRoot().getAnnotation().id()"
   ]
  },
  {
   "cell_type": "markdown",
   "id": "middle-curve",
   "metadata": {},
   "source": [
    "add this brain region to the viewer with a custom color"
   ]
  },
  {
   "cell_type": "code",
   "execution_count": 8,
   "id": "convertible-baltimore",
   "metadata": {},
   "outputs": [],
   "source": [
    "add_brain_region_to_viewer(structureId,[86, 101, 115],.5,viewer_3d)"
   ]
  },
  {
   "attachments": {},
   "cell_type": "markdown",
   "id": "biological-holder",
   "metadata": {},
   "source": [
    "![brain_region](img\\visualize_5.jpg)"
   ]
  }
 ],
 "metadata": {
  "kernelspec": {
   "display_name": "Python 3",
   "language": "python",
   "name": "python3"
  },
  "language_info": {
   "codemirror_mode": {
    "name": "ipython",
    "version": 3
   },
   "file_extension": ".py",
   "mimetype": "text/x-python",
   "name": "python",
   "nbconvert_exporter": "python",
   "pygments_lexer": "ipython3",
   "version": "3.8.5"
  }
 },
 "nbformat": 4,
 "nbformat_minor": 5
}
